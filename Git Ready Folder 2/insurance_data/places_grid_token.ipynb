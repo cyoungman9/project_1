{
 "cells": [
  {
   "cell_type": "code",
   "execution_count": 2,
   "metadata": {},
   "outputs": [],
   "source": [
    "# Dependencies\n",
    "import requests\n",
    "import json\n",
    "import pandas as pd"
   ]
  },
  {
   "cell_type": "code",
   "execution_count": 25,
   "metadata": {},
   "outputs": [],
   "source": [
    "import sys\n",
    "path_to_config = \"../../locksmith\"\n",
    "sys.path.insert(0, path_to_config)\n",
    "import config"
   ]
  },
  {
   "cell_type": "code",
   "execution_count": 26,
   "metadata": {},
   "outputs": [],
   "source": [
    "# Google developer API key\n",
    "from config import gkey"
   ]
  },
  {
   "cell_type": "markdown",
   "metadata": {},
   "source": [
    "**Now using systematic random grid of points arrayed across the Georgia at intervals of 25000 m**\n",
    "\n",
    "* To prevent spillover into other states I eroded the state boundary by 8000 m\n",
    "* Points were spaced at an interval of 25000 m\n",
    "\n",
    "* My goal was to maximize coverage, but reduce spillover into other states"
   ]
  },
  {
   "cell_type": "code",
   "execution_count": 27,
   "metadata": {},
   "outputs": [],
   "source": [
    "# Read in the grid:\n",
    "ga_grid = pd.read_csv(\"../ga_shapefile/ga_grid_df.csv\", index_col = 0)"
   ]
  },
  {
   "cell_type": "code",
   "execution_count": 28,
   "metadata": {},
   "outputs": [
    {
     "data": {
      "text/html": [
       "<div>\n",
       "<style scoped>\n",
       "    .dataframe tbody tr th:only-of-type {\n",
       "        vertical-align: middle;\n",
       "    }\n",
       "\n",
       "    .dataframe tbody tr th {\n",
       "        vertical-align: top;\n",
       "    }\n",
       "\n",
       "    .dataframe thead th {\n",
       "        text-align: right;\n",
       "    }\n",
       "</style>\n",
       "<table border=\"1\" class=\"dataframe\">\n",
       "  <thead>\n",
       "    <tr style=\"text-align: right;\">\n",
       "      <th></th>\n",
       "      <th>latitude</th>\n",
       "      <th>longitude</th>\n",
       "    </tr>\n",
       "  </thead>\n",
       "  <tbody>\n",
       "    <tr>\n",
       "      <th>0</th>\n",
       "      <td>30.592827</td>\n",
       "      <td>-82.111129</td>\n",
       "    </tr>\n",
       "    <tr>\n",
       "      <th>1</th>\n",
       "      <td>30.776857</td>\n",
       "      <td>-84.463661</td>\n",
       "    </tr>\n",
       "    <tr>\n",
       "      <th>2</th>\n",
       "      <td>30.783570</td>\n",
       "      <td>-84.202829</td>\n",
       "    </tr>\n",
       "    <tr>\n",
       "      <th>3</th>\n",
       "      <td>30.789758</td>\n",
       "      <td>-83.941913</td>\n",
       "    </tr>\n",
       "    <tr>\n",
       "      <th>4</th>\n",
       "      <td>30.795423</td>\n",
       "      <td>-83.680919</td>\n",
       "    </tr>\n",
       "  </tbody>\n",
       "</table>\n",
       "</div>"
      ],
      "text/plain": [
       "    latitude  longitude\n",
       "0  30.592827 -82.111129\n",
       "1  30.776857 -84.463661\n",
       "2  30.783570 -84.202829\n",
       "3  30.789758 -83.941913\n",
       "4  30.795423 -83.680919"
      ]
     },
     "execution_count": 28,
     "metadata": {},
     "output_type": "execute_result"
    }
   ],
   "source": [
    "ga_grid.reset_index(drop = True, inplace = True)\n",
    "ga_grid.head()"
   ]
  },
  {
   "cell_type": "code",
   "execution_count": 11,
   "metadata": {},
   "outputs": [
    {
     "data": {
      "text/plain": [
       "227"
      ]
     },
     "execution_count": 11,
     "metadata": {},
     "output_type": "execute_result"
    }
   ],
   "source": [
    "ga_grid_count = len(ga_grid)\n",
    "len(ga_grid)"
   ]
  },
  {
   "cell_type": "code",
   "execution_count": 14,
   "metadata": {},
   "outputs": [],
   "source": [
    "# If you want a test grid:\n",
    "\n",
    "ga_grid_test = ga_grid[0:10]"
   ]
  },
  {
   "cell_type": "code",
   "execution_count": 12,
   "metadata": {},
   "outputs": [
    {
     "data": {
      "text/html": [
       "<div>\n",
       "<style scoped>\n",
       "    .dataframe tbody tr th:only-of-type {\n",
       "        vertical-align: middle;\n",
       "    }\n",
       "\n",
       "    .dataframe tbody tr th {\n",
       "        vertical-align: top;\n",
       "    }\n",
       "\n",
       "    .dataframe thead th {\n",
       "        text-align: right;\n",
       "    }\n",
       "</style>\n",
       "<table border=\"1\" class=\"dataframe\">\n",
       "  <thead>\n",
       "    <tr style=\"text-align: right;\">\n",
       "      <th></th>\n",
       "      <th>agency_name</th>\n",
       "      <th>agency_status</th>\n",
       "      <th>agency_address</th>\n",
       "      <th>agency_latitude</th>\n",
       "      <th>agency_longitude</th>\n",
       "    </tr>\n",
       "  </thead>\n",
       "  <tbody>\n",
       "  </tbody>\n",
       "</table>\n",
       "</div>"
      ],
      "text/plain": [
       "Empty DataFrame\n",
       "Columns: [agency_name, agency_status, agency_address, agency_latitude, agency_longitude]\n",
       "Index: []"
      ]
     },
     "metadata": {},
     "output_type": "display_data"
    }
   ],
   "source": [
    "# Make the DataFrame\n",
    "\n",
    "agencies_df3 = pd.DataFrame({\"agency_name\":[],\n",
    "                            \"agency_status\":[],\n",
    "                            \"agency_address\":[],\n",
    "                            \"agency_latitude\":[],\n",
    "                            \"agency_longitude\":[]})\n",
    "\n",
    "display(agencies_df3)"
   ]
  },
  {
   "cell_type": "code",
   "execution_count": 16,
   "metadata": {},
   "outputs": [
    {
     "name": "stdout",
     "output_type": "stream",
     "text": [
      "Retrieving Results for Index 0.\n",
      "Retrieving Results for Index 1.\n",
      "Retrieving Results for Index 2.\n",
      "Retrieving Results for Index 3.\n",
      "Retrieving Results for Index 4.\n",
      "Retrieving Results for Index 5.\n",
      "Retrieving Results for Index 6.\n",
      "Retrieving Results for Index 7.\n",
      "Retrieving Results for Index 8.\n",
      "Retrieving Results for Index 9.\n"
     ]
    }
   ],
   "source": [
    "# This code will pull insurance data at each coordinate, including all next page tokens (recursively).\n",
    "\n",
    "\n",
    "base_url = \"https://maps.googleapis.com/maps/api/place/nearbysearch/json\"\n",
    "\n",
    "\n",
    "def nextpage(your_results, your_response, your_df, updated_local_count):\n",
    "        \n",
    "    for j in range(len(your_response[\"results\"]) - 1):\n",
    "        \n",
    "        try:\n",
    "            your_df.loc[local_count, \"agency_name\"] = your_results[j][\"name\"]\n",
    "            your_df.loc[local_count, \"agency_status\"] = your_results[j][\"business_status\"]\n",
    "            your_df.loc[local_count, \"agency_address\"] = your_results[j][\"vicinity\"]\n",
    "            your_df.loc[local_count, \"agency_latitude\"] = your_results[j][\"geometry\"][\"location\"][\"lat\"]\n",
    "            your_df.loc[local_count, \"agency_longitude\"] = your_results[j][\"geometry\"][\"location\"][\"lng\"]\n",
    "        \n",
    "        except (KeyError, IndexError):\n",
    "            print(\"Missing field/result... skipping.\")\n",
    "        \n",
    "        updated_local_count += 1\n",
    "        print(updated_local_count)\n",
    "        print(\"------------\")\n",
    " \n",
    "    return {\"df\":your_df, \"lcu\":updated_local_count}\n",
    "\n",
    "\n",
    "local_count = 0\n",
    "\n",
    "# use iterrows to iterate through pandas dataframe\n",
    "for index, row in ga_grid_test.iterrows():\n",
    "\n",
    "    params = {\n",
    "    \"radius\": 50000,\n",
    "    \"type\": \"insurance_agency\",\n",
    "    \"key\": gkey,\n",
    "    }\n",
    "    \n",
    "    lat = row['latitude']\n",
    "    lon = row['longitude']\n",
    "\n",
    "    # add location to params dict\n",
    "    params['location'] = f\"{lat}, {lon}\"\n",
    "\n",
    "    # assemble url and make API request\n",
    "    print(f\"Retrieving Results for Index {index}.\")\n",
    "    response = requests.get(base_url, params = params).json()\n",
    "    \n",
    "    # extract results\n",
    "    results = response['results']\n",
    "    \n",
    "    for i in range(len(response[\"results\"]) - 1):\n",
    "        \n",
    "        try:\n",
    "            agencies_df3.loc[local_count, \"agency_name\"] = results[i][\"name\"]\n",
    "            agencies_df3.loc[local_count, \"agency_status\"] = results[i][\"business_status\"]\n",
    "            agencies_df3.loc[local_count, \"agency_address\"] = results[i][\"vicinity\"]\n",
    "            agencies_df3.loc[local_count, \"agency_latitude\"] = results[i][\"geometry\"][\"location\"][\"lat\"]\n",
    "            agencies_df3.loc[local_count, \"agency_longitude\"] = results[i][\"geometry\"][\"location\"][\"lng\"]\n",
    "        \n",
    "        except (KeyError, IndexError):\n",
    "            print(\"Missing field/result... skipping.\")\n",
    "        \n",
    "        local_count += 1\n",
    "        print(local_count)\n",
    "        print(\"------------\")\n",
    "    \n",
    "    \n",
    "    while 'next_page_token' in response.keys():\n",
    "        time.sleep(5)\n",
    "        print(response.keys())\n",
    "        npt = response[\"next_page_token\"]\n",
    "        params = {\n",
    "               \"pagetoken\": npt,\n",
    "               \"key\": gkey\n",
    "                }\n",
    "        response = requests.get(base_url, params = params).json()\n",
    "        print(response)\n",
    "        results = response[\"results\"]\n",
    "        output_dict = nextpage(results, response, agencies_df3, local_count)\n",
    "        agencies_df3 = output_dict[\"df\"]\n",
    "        local_count = output_dict['lcu']\n",
    "        print(local_count)"
   ]
  },
  {
   "cell_type": "code",
   "execution_count": 17,
   "metadata": {},
   "outputs": [
    {
     "data": {
      "text/html": [
       "<div>\n",
       "<style scoped>\n",
       "    .dataframe tbody tr th:only-of-type {\n",
       "        vertical-align: middle;\n",
       "    }\n",
       "\n",
       "    .dataframe tbody tr th {\n",
       "        vertical-align: top;\n",
       "    }\n",
       "\n",
       "    .dataframe thead th {\n",
       "        text-align: right;\n",
       "    }\n",
       "</style>\n",
       "<table border=\"1\" class=\"dataframe\">\n",
       "  <thead>\n",
       "    <tr style=\"text-align: right;\">\n",
       "      <th></th>\n",
       "      <th>agency_name</th>\n",
       "      <th>agency_status</th>\n",
       "      <th>agency_address</th>\n",
       "      <th>agency_latitude</th>\n",
       "      <th>agency_longitude</th>\n",
       "    </tr>\n",
       "  </thead>\n",
       "  <tbody>\n",
       "  </tbody>\n",
       "</table>\n",
       "</div>"
      ],
      "text/plain": [
       "Empty DataFrame\n",
       "Columns: [agency_name, agency_status, agency_address, agency_latitude, agency_longitude]\n",
       "Index: []"
      ]
     },
     "metadata": {},
     "output_type": "display_data"
    }
   ],
   "source": [
    "agencies_df3.head()\n",
    "display(agencies_df3)"
   ]
  },
  {
   "cell_type": "code",
   "execution_count": 18,
   "metadata": {},
   "outputs": [
    {
     "ename": "NameError",
     "evalue": "name 'agencies_df3' is not defined",
     "output_type": "error",
     "traceback": [
      "\u001b[1;31m---------------------------------------------------------------------------\u001b[0m",
      "\u001b[1;31mNameError\u001b[0m                                 Traceback (most recent call last)",
      "\u001b[1;32m<ipython-input-18-9ce3d7401d0f>\u001b[0m in \u001b[0;36m<module>\u001b[1;34m\u001b[0m\n\u001b[1;32m----> 1\u001b[1;33m \u001b[0magencies_df3\u001b[0m\u001b[1;33m.\u001b[0m\u001b[0mto_csv\u001b[0m\u001b[1;33m(\u001b[0m\u001b[1;34m\"agencies_df_grid.csv\"\u001b[0m\u001b[1;33m,\u001b[0m \u001b[0mindex\u001b[0m \u001b[1;33m=\u001b[0m \u001b[1;36m0\u001b[0m\u001b[1;33m)\u001b[0m\u001b[1;33m\u001b[0m\u001b[1;33m\u001b[0m\u001b[0m\n\u001b[0m",
      "\u001b[1;31mNameError\u001b[0m: name 'agencies_df3' is not defined"
     ]
    }
   ],
   "source": [
    "agencies_df3.to_csv(\"agencies_df_grid.csv\")"
   ]
  },
  {
   "cell_type": "code",
   "execution_count": 20,
   "metadata": {},
   "outputs": [
    {
     "data": {
      "text/plain": [
       "4764"
      ]
     },
     "execution_count": 20,
     "metadata": {},
     "output_type": "execute_result"
    }
   ],
   "source": [
    "# If you want to read the data back in before additional processing.\n",
    "\n",
    "agencies_grid = pd.read_csv(\"agencies_df_grid.csv\", index_col = 0)\n",
    "len(agencies_grid)"
   ]
  },
  {
   "cell_type": "code",
   "execution_count": 21,
   "metadata": {},
   "outputs": [
    {
     "data": {
      "text/html": [
       "<div>\n",
       "<style scoped>\n",
       "    .dataframe tbody tr th:only-of-type {\n",
       "        vertical-align: middle;\n",
       "    }\n",
       "\n",
       "    .dataframe tbody tr th {\n",
       "        vertical-align: top;\n",
       "    }\n",
       "\n",
       "    .dataframe thead th {\n",
       "        text-align: right;\n",
       "    }\n",
       "</style>\n",
       "<table border=\"1\" class=\"dataframe\">\n",
       "  <thead>\n",
       "    <tr style=\"text-align: right;\">\n",
       "      <th></th>\n",
       "      <th>agency_name</th>\n",
       "      <th>agency_status</th>\n",
       "      <th>agency_address</th>\n",
       "    </tr>\n",
       "  </thead>\n",
       "  <tbody>\n",
       "    <tr>\n",
       "      <th>0</th>\n",
       "      <td>Acceptance Insurance</td>\n",
       "      <td>OPERATIONAL</td>\n",
       "      <td>3000 Dunn Avenue Suite 68A, Jacksonville</td>\n",
       "    </tr>\n",
       "    <tr>\n",
       "      <th>1</th>\n",
       "      <td>Phenix Supply Co</td>\n",
       "      <td>OPERATIONAL</td>\n",
       "      <td>11705 Industry Drive, Jacksonville</td>\n",
       "    </tr>\n",
       "    <tr>\n",
       "      <th>2</th>\n",
       "      <td>Insurance Auto Auctions</td>\n",
       "      <td>OPERATIONAL</td>\n",
       "      <td>14492 New Kings Road, Jacksonville</td>\n",
       "    </tr>\n",
       "    <tr>\n",
       "      <th>3</th>\n",
       "      <td>Florida State College of Jacksonville: Insuran...</td>\n",
       "      <td>OPERATIONAL</td>\n",
       "      <td>3939 Roosevelt Boulevard, Jacksonville</td>\n",
       "    </tr>\n",
       "    <tr>\n",
       "      <th>4</th>\n",
       "      <td>Gary Anderson - State Farm Insurance Agent</td>\n",
       "      <td>OPERATIONAL</td>\n",
       "      <td>450111 State Road 200, Callahan</td>\n",
       "    </tr>\n",
       "    <tr>\n",
       "      <th>...</th>\n",
       "      <td>...</td>\n",
       "      <td>...</td>\n",
       "      <td>...</td>\n",
       "    </tr>\n",
       "    <tr>\n",
       "      <th>12849</th>\n",
       "      <td>Kim Farner Insurance Agency</td>\n",
       "      <td>OPERATIONAL</td>\n",
       "      <td>375 North Main Street, Hiawassee</td>\n",
       "    </tr>\n",
       "    <tr>\n",
       "      <th>12850</th>\n",
       "      <td>Norton Mountain Insurance</td>\n",
       "      <td>OPERATIONAL</td>\n",
       "      <td>855 Washington Street, Clarkesville</td>\n",
       "    </tr>\n",
       "    <tr>\n",
       "      <th>12851</th>\n",
       "      <td>Health Life Retirement Plans</td>\n",
       "      <td>OPERATIONAL</td>\n",
       "      <td>47 Burch Cove Road, Hayesville</td>\n",
       "    </tr>\n",
       "    <tr>\n",
       "      <th>12852</th>\n",
       "      <td>John Essigman Wealth Advisors LLC</td>\n",
       "      <td>OPERATIONAL</td>\n",
       "      <td>141 North Main Street, Cleveland</td>\n",
       "    </tr>\n",
       "    <tr>\n",
       "      <th>12871</th>\n",
       "      <td>Advantage Insurers Inc</td>\n",
       "      <td>OPERATIONAL</td>\n",
       "      <td>111 West Kytle Street, Cleveland</td>\n",
       "    </tr>\n",
       "  </tbody>\n",
       "</table>\n",
       "<p>4764 rows × 3 columns</p>\n",
       "</div>"
      ],
      "text/plain": [
       "                                             agency_name agency_status  \\\n",
       "0                                   Acceptance Insurance   OPERATIONAL   \n",
       "1                                       Phenix Supply Co   OPERATIONAL   \n",
       "2                                Insurance Auto Auctions   OPERATIONAL   \n",
       "3      Florida State College of Jacksonville: Insuran...   OPERATIONAL   \n",
       "4             Gary Anderson - State Farm Insurance Agent   OPERATIONAL   \n",
       "...                                                  ...           ...   \n",
       "12849                        Kim Farner Insurance Agency   OPERATIONAL   \n",
       "12850                          Norton Mountain Insurance   OPERATIONAL   \n",
       "12851                       Health Life Retirement Plans   OPERATIONAL   \n",
       "12852                  John Essigman Wealth Advisors LLC   OPERATIONAL   \n",
       "12871                             Advantage Insurers Inc   OPERATIONAL   \n",
       "\n",
       "                                 agency_address  \n",
       "0      3000 Dunn Avenue Suite 68A, Jacksonville  \n",
       "1            11705 Industry Drive, Jacksonville  \n",
       "2            14492 New Kings Road, Jacksonville  \n",
       "3        3939 Roosevelt Boulevard, Jacksonville  \n",
       "4               450111 State Road 200, Callahan  \n",
       "...                                         ...  \n",
       "12849          375 North Main Street, Hiawassee  \n",
       "12850       855 Washington Street, Clarkesville  \n",
       "12851            47 Burch Cove Road, Hayesville  \n",
       "12852          141 North Main Street, Cleveland  \n",
       "12871          111 West Kytle Street, Cleveland  \n",
       "\n",
       "[4764 rows x 3 columns]"
      ]
     },
     "execution_count": 21,
     "metadata": {},
     "output_type": "execute_result"
    }
   ],
   "source": [
    "# Need to drop the target coordinates before dropping duplicates (otherwise they will not drop)\n",
    "\n",
    "agencies_grid.drop([\"agency_latitude\", \"agency_longitude\"], axis = 1)"
   ]
  },
  {
   "cell_type": "code",
   "execution_count": 22,
   "metadata": {},
   "outputs": [],
   "source": [
    "agencies_grid.drop_duplicates(inplace = True)"
   ]
  },
  {
   "cell_type": "code",
   "execution_count": 23,
   "metadata": {},
   "outputs": [
    {
     "data": {
      "text/plain": [
       "1402"
      ]
     },
     "execution_count": 23,
     "metadata": {},
     "output_type": "execute_result"
    }
   ],
   "source": [
    "len(agencies_grid)  # Check how many left after dropping"
   ]
  },
  {
   "cell_type": "code",
   "execution_count": 24,
   "metadata": {},
   "outputs": [],
   "source": [
    "agencies_grid.reset_index(drop = True, inplace = True)  # Reset the index"
   ]
  },
  {
   "cell_type": "code",
   "execution_count": 25,
   "metadata": {},
   "outputs": [],
   "source": [
    "agencies_grid.to_csv(\"agencies_df_grid_drop.csv\") # Save a copy of the DataFrame to .csv, after dropping."
   ]
  },
  {
   "cell_type": "code",
   "execution_count": null,
   "metadata": {},
   "outputs": [],
   "source": []
  }
 ],
 "metadata": {
  "kernelspec": {
   "display_name": "Python [conda env:PythonData] *",
   "language": "python",
   "name": "conda-env-PythonData-py"
  },
  "language_info": {
   "codemirror_mode": {
    "name": "ipython",
    "version": 3
   },
   "file_extension": ".py",
   "mimetype": "text/x-python",
   "name": "python",
   "nbconvert_exporter": "python",
   "pygments_lexer": "ipython3",
   "version": "3.6.10"
  }
 },
 "nbformat": 4,
 "nbformat_minor": 4
}
